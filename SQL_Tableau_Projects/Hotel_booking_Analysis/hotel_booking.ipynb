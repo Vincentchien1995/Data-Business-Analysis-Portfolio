{
 "cells": [
  {
   "cell_type": "code",
   "execution_count": 3,
   "id": "998ca0d5",
   "metadata": {},
   "outputs": [
    {
     "name": "stdout",
     "output_type": "stream",
     "text": [
      "Collecting pandas\n",
      "  Downloading pandas-2.3.3-cp312-cp312-macosx_10_13_x86_64.whl.metadata (91 kB)\n",
      "Requirement already satisfied: numpy>=1.26.0 in /Users/vincentchien/.julia/conda/3/x86_64/lib/python3.12/site-packages (from pandas) (2.1.1)\n",
      "Requirement already satisfied: python-dateutil>=2.8.2 in /Users/vincentchien/.julia/conda/3/x86_64/lib/python3.12/site-packages (from pandas) (2.9.0.post0)\n",
      "Requirement already satisfied: pytz>=2020.1 in /Users/vincentchien/.julia/conda/3/x86_64/lib/python3.12/site-packages (from pandas) (2024.1)\n",
      "Collecting tzdata>=2022.7 (from pandas)\n",
      "  Using cached tzdata-2025.2-py2.py3-none-any.whl.metadata (1.4 kB)\n",
      "Requirement already satisfied: six>=1.5 in /Users/vincentchien/.julia/conda/3/x86_64/lib/python3.12/site-packages (from python-dateutil>=2.8.2->pandas) (1.16.0)\n",
      "Downloading pandas-2.3.3-cp312-cp312-macosx_10_13_x86_64.whl (11.6 MB)\n",
      "\u001b[2K   \u001b[90m━━━━━━━━━━━━━━━━━━━━━━━━━━━━━━━━━━━━━━━━\u001b[0m \u001b[32m11.6/11.6 MB\u001b[0m \u001b[31m16.1 MB/s\u001b[0m eta \u001b[36m0:00:00\u001b[0ma \u001b[36m0:00:01\u001b[0m\n",
      "\u001b[?25hUsing cached tzdata-2025.2-py2.py3-none-any.whl (347 kB)\n",
      "Installing collected packages: tzdata, pandas\n",
      "Successfully installed pandas-2.3.3 tzdata-2025.2\n",
      "Note: you may need to restart the kernel to use updated packages.\n"
     ]
    }
   ],
   "source": [
    "pip install pandas"
   ]
  },
  {
   "cell_type": "markdown",
   "id": "a6e6a3c6",
   "metadata": {},
   "source": [
    "#### Load Datasets into Pandas DataFrames"
   ]
  },
  {
   "cell_type": "code",
   "execution_count": null,
   "id": "ae658a1c",
   "metadata": {},
   "outputs": [
    {
     "name": "stdout",
     "output_type": "stream",
     "text": [
      "   hotel_id         hotel_name      city               country  star_rating  \\\n",
      "0         1    The Azure Tower  New York         United States            5   \n",
      "1         2  The Royal Compass    London        United Kingdom            5   \n",
      "2         3     Latoile Palace     Paris                France            5   \n",
      "3         4       Kyo-to Grand     Tokyo                 Japan            5   \n",
      "4         5   The Golden Oasis     Dubai  United Arab Emirates            5   \n",
      "\n",
      "       lat       lon  cleanliness_base  comfort_base  facilities_base  \\\n",
      "0  40.7580  -73.9855               9.1           8.8              8.9   \n",
      "1  51.5072   -0.1276               9.0           9.2              8.8   \n",
      "2  48.8566    2.3522               8.8           9.4              8.7   \n",
      "3  35.6895  139.6917               9.6           9.0              9.3   \n",
      "4  25.2769   55.2962               9.3           9.5              9.6   \n",
      "\n",
      "   location_base  staff_base  value_for_money_base  \n",
      "0            9.5         8.6                   8.0  \n",
      "1            9.4         9.0                   7.9  \n",
      "2            9.6         9.3                   8.1  \n",
      "3            8.5         9.5                   8.2  \n",
      "4            8.9         9.4                   8.5  \n",
      "   user_id user_gender         country age_group traveller_type   join_date\n",
      "0        1      Female  United Kingdom     35-44           Solo  2024-09-29\n",
      "1        2        Male  United Kingdom     25-34           Solo  2023-11-29\n",
      "2        3      Female          Mexico     25-34         Family  2022-04-03\n",
      "3        4        Male           India     35-44         Family  2023-12-02\n",
      "4        5       Other           Japan     25-34           Solo  2021-12-18\n",
      "   review_id  user_id  hotel_id review_date  score_overall  score_cleanliness  \\\n",
      "0          1     1600         1  2022-10-07            8.7                8.6   \n",
      "1          2      432         4  2020-03-24            9.1               10.0   \n",
      "2          3      186        18  2023-12-18            8.8                9.7   \n",
      "3          4     1403        19  2022-06-22            8.9                9.0   \n",
      "4          5     1723        17  2022-07-02            9.1                8.9   \n",
      "\n",
      "   score_comfort  score_facilities  score_location  score_staff  \\\n",
      "0            8.7               8.5             9.0          8.8   \n",
      "1            9.1               9.0             8.6          9.4   \n",
      "2            8.8               8.3             8.7          8.1   \n",
      "3            8.8               8.5             9.6          9.1   \n",
      "4            9.5               9.3             8.3          9.4   \n",
      "\n",
      "   score_value_for_money                                        review_text  \n",
      "0                    8.7  Practice reduce young our because machine. Rec...  \n",
      "1                    8.6  Test cover traditional black. Process tell Mr ...  \n",
      "2                    8.6  Friend million student social study yeah. Grow...  \n",
      "3                    8.3  Huge girl already remain truth behind card. Ap...  \n",
      "4                    8.9  Cover feeling call community serve television ...  \n"
     ]
    }
   ],
   "source": [
    "import pandas as pd\n",
    "\n",
    "df_hotels= pd.read_csv('/Users/vincentchien/Desktop/Data analyst/Portofolio/My own/SQL+Tableau/Hotel_booking/data/hotels.csv')\n",
    "df_users= pd.read_csv('/Users/vincentchien/Desktop/Data analyst/Portofolio/My own/SQL+Tableau/Hotel_booking/data/users.csv')\n",
    "df_reviews=pd.read_csv('/Users/vincentchien/Desktop/Data analyst/Portofolio/My own/SQL+Tableau/Hotel_booking/data/reviews.csv')\n",
    "\n",
    "print(df_hotels.head())\n",
    "print(df_users.head())\n",
    "print(df_reviews.head())\n"
   ]
  },
  {
   "cell_type": "markdown",
   "id": "299935fc",
   "metadata": {},
   "source": [
    "#### Data Quality Check (Missing & Duplicate Values)"
   ]
  },
  {
   "cell_type": "code",
   "execution_count": 24,
   "id": "0dce0fdd",
   "metadata": {},
   "outputs": [
    {
     "name": "stdout",
     "output_type": "stream",
     "text": [
      "Hotels Null Count:\n",
      " hotel_id                0\n",
      "hotel_name              0\n",
      "city                    0\n",
      "country                 0\n",
      "star_rating             0\n",
      "lat                     0\n",
      "lon                     0\n",
      "cleanliness_base        0\n",
      "comfort_base            0\n",
      "facilities_base         0\n",
      "location_base           0\n",
      "staff_base              0\n",
      "value_for_money_base    0\n",
      "dtype: int64\n",
      "Reviews Null Count:\n",
      " review_id                0\n",
      "user_id                  0\n",
      "hotel_id                 0\n",
      "review_date              0\n",
      "score_overall            0\n",
      "score_cleanliness        0\n",
      "score_comfort            0\n",
      "score_facilities         0\n",
      "score_location           0\n",
      "score_staff              0\n",
      "score_value_for_money    0\n",
      "review_text              0\n",
      "dtype: int64\n",
      "Users Null Count:\n",
      " user_id           0\n",
      "user_gender       0\n",
      "country           0\n",
      "age_group         0\n",
      "traveller_type    0\n",
      "join_date         0\n",
      "dtype: int64\n"
     ]
    }
   ],
   "source": [
    "print(\"Hotels Null Count:\\n\",df_hotels.isnull().sum())\n",
    "print(\"Reviews Null Count:\\n\",df_reviews.isnull().sum())\n",
    "print(\"Users Null Count:\\n\",df_users.isnull().sum())"
   ]
  },
  {
   "cell_type": "code",
   "execution_count": 26,
   "id": "dca08c83",
   "metadata": {},
   "outputs": [
    {
     "name": "stdout",
     "output_type": "stream",
     "text": [
      "Hotels Duplicate Count:\n",
      " 0\n",
      "Reviews Duplicate Count:\n",
      " 0\n",
      "Users Duplicate Count:\n",
      " 0\n"
     ]
    }
   ],
   "source": [
    "print(\"Hotels Duplicate Count:\\n\",df_hotels.duplicated().sum())\n",
    "print(\"Reviews Duplicate Count:\\n\",df_reviews.duplicated().sum())\n",
    "print(\"Users Duplicate Count:\\n\",df_users.duplicated().sum())"
   ]
  },
  {
   "cell_type": "markdown",
   "id": "6302be58",
   "metadata": {},
   "source": [
    "#### Descriptive Statistics (Numerical Features Overview)"
   ]
  },
  {
   "cell_type": "code",
   "execution_count": 31,
   "id": "2043d7c1",
   "metadata": {},
   "outputs": [
    {
     "name": "stdout",
     "output_type": "stream",
     "text": [
      "df_hotel:\n",
      "         hotel_id  star_rating        lat         lon  cleanliness_base  \\\n",
      "count  25.000000         25.0  25.000000   25.000000         25.000000   \n",
      "mean   13.000000          5.0  20.920591   33.897558          9.092000   \n",
      "std     7.359801          0.0  31.175591   75.044300          0.230796   \n",
      "min     1.000000          5.0 -41.286500  -99.133200          8.700000   \n",
      "25%     7.000000          5.0   6.524400    2.173400          8.900000   \n",
      "50%    13.000000          5.0  31.230400   18.424100          9.100000   \n",
      "75%    19.000000          5.0  41.902800  100.501800          9.300000   \n",
      "max    25.000000          5.0  55.755800  174.776200          9.600000   \n",
      "\n",
      "       comfort_base  facilities_base  location_base  staff_base  \\\n",
      "count     25.000000         25.00000       25.00000    25.00000   \n",
      "mean       9.064000          8.91600        9.27200     9.01600   \n",
      "std        0.237837          0.29109        0.35534     0.24097   \n",
      "min        8.600000          8.50000        8.50000     8.60000   \n",
      "25%        8.900000          8.70000        9.00000     8.80000   \n",
      "50%        9.100000          8.90000        9.30000     9.00000   \n",
      "75%        9.200000          9.10000        9.60000     9.20000   \n",
      "max        9.500000          9.60000        9.80000     9.50000   \n",
      "\n",
      "       value_for_money_base  \n",
      "count             25.000000  \n",
      "mean               8.512000  \n",
      "std                0.265079  \n",
      "min                7.900000  \n",
      "25%                8.400000  \n",
      "50%                8.500000  \n",
      "75%                8.700000  \n",
      "max                8.900000  \n",
      "df_review:\n",
      "           review_id       user_id      hotel_id  score_overall  \\\n",
      "count  50000.000000  50000.000000  50000.000000   50000.000000   \n",
      "mean   25000.500000   1005.567540     13.051100       8.943460   \n",
      "std    14433.901067    576.711855      7.203808       0.180878   \n",
      "min        1.000000      1.000000      1.000000       8.200000   \n",
      "25%    12500.750000    507.000000      7.000000       8.800000   \n",
      "50%    25000.500000   1010.000000     13.000000       8.900000   \n",
      "75%    37500.250000   1504.000000     19.000000       9.100000   \n",
      "max    50000.000000   2000.000000     25.000000       9.600000   \n",
      "\n",
      "       score_cleanliness  score_comfort  score_facilities  score_location  \\\n",
      "count       50000.000000   50000.000000      50000.000000    50000.000000   \n",
      "mean            9.052558       9.024404          8.743062        9.176410   \n",
      "std             0.504296       0.423927          0.498320        0.421086   \n",
      "min             7.700000       7.900000          7.600000        7.900000   \n",
      "25%             8.700000       8.700000          8.400000        8.900000   \n",
      "50%             9.100000       9.000000          8.700000        9.200000   \n",
      "75%             9.400000       9.300000          9.100000        9.500000   \n",
      "max            10.000000      10.000000         10.000000       10.000000   \n",
      "\n",
      "        score_staff  score_value_for_money  \n",
      "count  50000.000000           50000.000000  \n",
      "mean       8.972076               8.434540  \n",
      "std        0.397775               0.529321  \n",
      "min        7.900000               6.800000  \n",
      "25%        8.700000               8.100000  \n",
      "50%        9.000000               8.500000  \n",
      "75%        9.200000               8.800000  \n",
      "max       10.000000               9.700000  \n",
      "df_user:\n",
      "            user_id\n",
      "count  2000.000000\n",
      "mean   1000.500000\n",
      "std     577.494589\n",
      "min       1.000000\n",
      "25%     500.750000\n",
      "50%    1000.500000\n",
      "75%    1500.250000\n",
      "max    2000.000000\n"
     ]
    }
   ],
   "source": [
    "print(\"df_hotel:\\n\",df_hotels.describe())\n",
    "print(\"df_review:\\n\",df_reviews.describe())\n",
    "print(\"df_user:\\n\",df_users.describe())"
   ]
  }
 ],
 "metadata": {
  "kernelspec": {
   "display_name": "base",
   "language": "python",
   "name": "python3"
  },
  "language_info": {
   "codemirror_mode": {
    "name": "ipython",
    "version": 3
   },
   "file_extension": ".py",
   "mimetype": "text/x-python",
   "name": "python",
   "nbconvert_exporter": "python",
   "pygments_lexer": "ipython3",
   "version": "3.12.6"
  }
 },
 "nbformat": 4,
 "nbformat_minor": 5
}
